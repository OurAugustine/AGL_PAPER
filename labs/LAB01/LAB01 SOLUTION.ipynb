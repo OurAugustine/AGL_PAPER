{
 "cells": [
  {
   "cell_type": "markdown",
   "id": "dfdffdc8",
   "metadata": {},
   "source": [
    "# LAB01 SOLUTION BY OURU AUGUSTINE"
   ]
  },
  {
   "cell_type": "code",
   "execution_count": 7,
   "id": "f1759023",
   "metadata": {},
   "outputs": [
    {
     "name": "stdout",
     "output_type": "stream",
     "text": [
      "Results:\n",
      "Maximum: 1996.0\n",
      "Minimum: -1982.0\n",
      "Average: -49.38\n",
      "Range: 3978.0\n",
      "printing the largest negative number: 27.0\n",
      "\n",
      "Repeated Numbers:\n",
      "-1433.0: 2 times\n",
      "-1731.0: 2 times\n",
      "-59.0: 2 times\n",
      "588.0: 2 times\n"
     ]
    }
   ],
   "source": [
    "import random\n",
    "\n",
    "def write_data(filename, number_iterations, lower_bond, upper_bond):\n",
    "    fp = open(filename, 'w')\n",
    "    for i in range(number_iterations):\n",
    "        my_random_number = random.randint(lower_bond, upper_bond)\n",
    "        fp.write(str(my_random_number)+'\\n')\n",
    "    fp.close()\n",
    "    return\n",
    "\n",
    "def read_numbers_from_file(file_path):\n",
    "    try:\n",
    "        with open(file_path, 'r') as file:\n",
    "            numbers = [float(line.strip()) for line in file.readlines()]\n",
    "        return numbers\n",
    "    except FileNotFoundError:\n",
    "        print(f\"Error: File '{file_path}' not found.\")\n",
    "        return None\n",
    "    except Exception as e:\n",
    "        print(f\"Error: {e}\")\n",
    "        return None\n",
    "\n",
    "def basic_data_analysis(numbers):\n",
    "    if numbers is not None:\n",
    "        # Find maximum, minimum, average, and range\n",
    "        max_value = max(numbers)\n",
    "        min_value = min(numbers)\n",
    "        avg_value = sum(numbers) / len(numbers)\n",
    "        data_range = max_value - min_value\n",
    "        #getting largest negative number\n",
    "        largest_neg1 = min([abs(n) for n in numbers if n < 0], default=0)\n",
    "\n",
    "        # Identify and count repeated numbers\n",
    "        num_counts = {}\n",
    "        for num in numbers:\n",
    "            num_counts[num] = num_counts.get(num, 0) + 1\n",
    "\n",
    "        return max_value, min_value, avg_value, data_range,largest_neg1, num_counts\n",
    "    else:\n",
    "        return None\n",
    "\n",
    "def print_results(max_value, min_value, avg_value, data_range,largest_neg1, num_counts):\n",
    "    print(\"Results:\")\n",
    "    print(f\"Maximum: {max_value}\")\n",
    "    print(f\"Minimum: {min_value}\")\n",
    "    print(f\"Average: {avg_value:.2f}\")\n",
    "    print(f\"Range: {data_range}\")\n",
    "    print('printing the largest negative number:',largest_neg1)\n",
    "    print(\"\\nRepeated Numbers:\")\n",
    "    \n",
    "    for num, count in num_counts.items():\n",
    "        if count > 1:\n",
    "            print(f\"{num}: {count} times\")\n",
    "\n",
    "if __name__ == \"__main__\":\n",
    "     #creaating the file needed\n",
    "    write_data('lab1/data4.txt',200,-2000,2000)\n",
    "    # Specify the file path (replace 'numbers.txt' with your file)\n",
    "    file_path = 'lab1/data4.txt'\n",
    "\n",
    "    # Read numbers from the file\n",
    "    numbers = read_numbers_from_file(file_path)\n",
    "\n",
    "    # Perform basic data analysis\n",
    "    analysis_results = basic_data_analysis(numbers)\n",
    "\n",
    "    # Print the results\n",
    "    if analysis_results is not None:\n",
    "        max_value, min_value, avg_value, data_range,largest_neg1, num_counts = analysis_results\n",
    "        print_results(max_value, min_value, avg_value, data_range,largest_neg1, num_counts)\n"
   ]
  }
 ],
 "metadata": {
  "kernelspec": {
   "display_name": "Python 3 (ipykernel)",
   "language": "python",
   "name": "python3"
  },
  "language_info": {
   "codemirror_mode": {
    "name": "ipython",
    "version": 3
   },
   "file_extension": ".py",
   "mimetype": "text/x-python",
   "name": "python",
   "nbconvert_exporter": "python",
   "pygments_lexer": "ipython3",
   "version": "3.11.4"
  }
 },
 "nbformat": 4,
 "nbformat_minor": 5
}

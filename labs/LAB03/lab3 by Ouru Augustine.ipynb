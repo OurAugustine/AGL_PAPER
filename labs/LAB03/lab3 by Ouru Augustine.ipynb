{
 "cells": [
  {
   "cell_type": "markdown",
   "id": "55bccfa6-3acc-43b5-acb9-34205e2597f5",
   "metadata": {},
   "source": [
    "# 3. k-Means Clustering\n",
    "In this lab, we will code the k-means clustering algorithm from scratch. We will perform k-means clustering on a toy dataset - iris."
   ]
  },
  {
   "cell_type": "code",
   "execution_count": 1,
   "id": "5622210d-33f1-4010-98fd-35f4dbd1f2c5",
   "metadata": {},
   "outputs": [],
   "source": [
    "import numpy as np\n",
    "from sklearn import datasets\n",
    "from sklearn.preprocessing import StandardScaler\n",
    "from scipy.spatial import distance\n",
    "import os, sys\n",
    "import matplotlib.pyplot as plt\n",
    "\n",
    "np.random.seed(1)\n",
    "\n",
    "iris =datasets.load_iris()\n",
    "X = iris.data\n",
    "y = iris.target\n",
    "\n",
    "scaler = StandardScaler()\n",
    "scaler.fit(X)\n",
    "X = scaler.transform(X)\n",
    "\n",
    "class kmeans:\n",
    "    def __init__(self, X, k=3, iters=1000):\n",
    "        self.X       = X\n",
    "        self.k       = k\n",
    "        self.iters   = iters\n",
    "        self.m       = X.shape[0]\n",
    "        self.n       = X.shape[1]\n",
    "        self.centers = np.random.randn(self.k, self.n)\n",
    "        self.minIdx  = None\n",
    "        self.costVal = 0.\n",
    "\n",
    "    \n",
    "    def fit(self):\n",
    "        for _ in range(self.iters):\n",
    "            # Step 1: Assign each data point to the nearest cluster\n",
    "            dist2centers = distance.cdist(self.X, self.centers, 'euclidean')\n",
    "            self.minIdx = np.argmin(dist2centers, axis=1)\n",
    "            \n",
    "            # Step 2: Update the cluster centers using the mean of the data points\n",
    "            for i in range(self.k):\n",
    "                cluster_point=self.X[self.minIdx == i]\n",
    "                if len(cluster_point)>0:\n",
    "                    self.centers[i] = np.mean(cluster_point, axis=0)\n",
    "            \n",
    "        return self.minIdx\n",
    "    \n",
    "    def costFcn(self):\n",
    "        for i in range(self.k):\n",
    "            centers = self.centers[i].reshape((1, self.n))\n",
    "            cluster_distance = distance.cdist(self.X[self.minIdx==i], centers)\n",
    "            self.costVal += np.sum(np.square(cluster_distance))\n",
    "        return self.costVal"
   ]
  },
  {
   "cell_type": "code",
   "execution_count": 2,
   "id": "ec20880f",
   "metadata": {},
   "outputs": [
    {
     "name": "stdout",
     "output_type": "stream",
     "text": [
      "Final cluster assignments: [2 2 2 2 2 2 2 2 2 2 2 2 2 2 2 2 2 2 2 2 2 2 2 2 2 2 2 2 2 2 2 2 2 2 2 2 2\n",
      " 2 2 2 2 2 2 2 2 2 2 2 2 2 0 0 0 1 1 1 0 1 1 1 1 1 1 1 1 0 1 1 1 1 0 1 1 1\n",
      " 1 0 0 0 1 1 1 1 1 1 1 0 0 1 1 1 1 1 1 1 1 1 1 1 1 1 0 1 0 0 0 0 1 0 0 0 0\n",
      " 0 0 1 1 0 0 0 0 1 0 1 0 1 0 0 1 0 0 0 0 0 0 1 1 0 0 0 1 0 0 0 1 0 0 0 1 0\n",
      " 0 1]\n",
      "Final cost function value: 139.8204963597498\n"
     ]
    }
   ],
   "source": [
    "# Example usage:\n",
    "kmeans_model = kmeans(X, k=3, iters=1000)\n",
    "minIdx = kmeans_model.fit()\n",
    "cost = kmeans_model.costFcn()\n",
    "print(\"Final cluster assignments:\", minIdx)\n",
    "print(\"Final cost function value:\", cost)"
   ]
  },
  {
   "cell_type": "markdown",
   "id": "5220b8eb-7517-400c-bf33-8823de53578e",
   "metadata": {},
   "source": [
    "In the following, we will test the k-means algorithm on the iris dataset. We will use the elbow method to find the optimal number of clusters. The elbow method is a heuristic used to determine the number of clusters in a data set. The method consists of plotting the explained variation as a function of the number of clusters and picking the elbow of the curve as the number of clusters to use. The explained variation is the percentage of variance that is explained by the number of clusters. The following code will plot the explained variation as a function of the number of clusters."
   ]
  },
  {
   "cell_type": "code",
   "execution_count": 3,
   "id": "686efd1d-8404-4f60-b003-45447720c5d9",
   "metadata": {},
   "outputs": [
    {
     "data": {
      "image/png": "[encoded data removed]",
      "text/plain": [
       "<Figure size 640x480 with 1 Axes>"
      ]
     },
     "metadata": {},
     "output_type": "display_data"
    }
   ],
   "source": [
    "y_var = []\n",
    "for i in range(1, 6):\n",
    "    myKM = kmeans(X, k=i)\n",
    "    myKM.fit()\n",
    "    y_var.append(myKM.costFcn())\n",
    "x_axis = [x for x in range(1, 6)]\n",
    "plt.plot(x_axis, y_var)\n",
    "plt.show()"
   ]
  },
  {
   "cell_type": "markdown",
   "id": "dd964709-ac79-42c7-a722-d9241061a7e3",
   "metadata": {},
   "source": [
    "After you finish the code, you should create a new folder at the `lab/` directory called `lab3` and save the file as `lab3.md`. \n",
    "In `lab3.md`, write down the number k that you think is the optimal number of clusters based on the elbow method. Also, write down the reason why you think that is the optimal number of clusters. Hint: we know the number of flower classes. "
   ]
  },
  {
   "cell_type": "markdown",
   "id": "67214ea8",
   "metadata": {},
   "source": [
    "# ANS\n",
    "Based on the elbow method plot, we would expect the optimal number of clusters to be around k=3, as this is where the rate of decrease in WCSS slows down significantly, forming an \"elbow\" in the plot. This is consistent with our prior knowledge that the Iris dataset has three distinct classes of flowers"
   ]
  },
  {
   "cell_type": "code",
   "execution_count": null,
   "id": "3244ad93",
   "metadata": {},
   "outputs": [],
   "source": []
  }
 ],
 "metadata": {
  "kernelspec": {
   "display_name": "Python 3 (ipykernel)",
   "language": "python",
   "name": "python3"
  },
  "language_info": {
   "codemirror_mode": {
    "name": "ipython",
    "version": 3
   },
   "file_extension": ".py",
   "mimetype": "text/x-python",
   "name": "python",
   "nbconvert_exporter": "python",
   "pygments_lexer": "ipython3",
   "version": "3.11.4"
  }
 },
 "nbformat": 4,
 "nbformat_minor": 5
}
